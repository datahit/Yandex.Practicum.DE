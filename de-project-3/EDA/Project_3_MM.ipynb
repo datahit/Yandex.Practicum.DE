{
 "cells": [
  {
   "cell_type": "markdown",
   "id": "5d6ebbef",
   "metadata": {},
   "source": [
    "# 1. Import data (REPORTS)"
   ]
  },
  {
   "cell_type": "code",
   "execution_count": 1,
   "id": "d42e58ee",
   "metadata": {},
   "outputs": [],
   "source": [
    "import requests\n",
    "import time\n",
    "import pandas as pd\n",
    "import numpy as np\n",
    "import datetime\n",
    "#import psycopg2\n",
    "import sqlalchemy\n",
    "from sqlalchemy import create_engine"
   ]
  },
  {
   "cell_type": "code",
   "execution_count": 2,
   "id": "f3615cb9",
   "metadata": {},
   "outputs": [],
   "source": [
    "# API header\n",
    "url = 'd5dg1j9kt695d30blp03.apigw.yandexcloud.net'\n",
    "task_id = ''\n",
    "key = '5f55e6c0-e9e5-4a9c-b313-63c01fc31460'\n",
    "nickname = 'smartflip'\n",
    "cohort = '3' "
   ]
  },
  {
   "cell_type": "code",
   "execution_count": 3,
   "id": "5d44713f",
   "metadata": {},
   "outputs": [
    {
     "name": "stdout",
     "output_type": "stream",
     "text": [
      "MjAyMi0wNy0xNFQwNzo1NjowNwlzbWFydGZsaXA=\n"
     ]
    }
   ],
   "source": [
    "# API, get task id\n",
    "generate_report_response = requests.post(\n",
    "    f\"https://{url}/generate_report\",                                      # enter point\n",
    "    headers={\n",
    "        \"X-API-KEY\": key,                                                  # API key\n",
    "        \"X-Nickname\": nickname,                                            # details\n",
    "        \"X-Cohort\": cohort                                                 # details\n",
    "    }\n",
    ").json()\n",
    "time.sleep(10)\n",
    "task_id = generate_report_response[\"task_id\"]\n",
    "print(task_id)"
   ]
  },
  {
   "cell_type": "code",
   "execution_count": 8,
   "id": "b1dbd307",
   "metadata": {},
   "outputs": [
    {
     "name": "stdout",
     "output_type": "stream",
     "text": [
      "-----response number 0-----\n",
      "{'message': \"request to function 'd4eshhesk27d9tafkt6b' failed, reason: got http error: url = https://functions.yandexcloud.net/d4eshhesk27d9tafkt6b?integration=raw, method = POST, status = 504\"}\n",
      "-----response number 1-----\n",
      "{'message': \"request to function 'd4eshhesk27d9tafkt6b' failed, reason: got http error: url = https://functions.yandexcloud.net/d4eshhesk27d9tafkt6b?integration=raw, method = POST, status = 504\"}\n",
      "-----response number 2-----\n",
      "{'message': \"request to function 'd4eshhesk27d9tafkt6b' failed, reason: got http error: url = https://functions.yandexcloud.net/d4eshhesk27d9tafkt6b?integration=raw, method = POST, status = 504\"}\n",
      "-----response number 3-----\n",
      "{'task_id': 'MjAyMi0wNy0xNFQwNzo1NjowNwlzbWFydGZsaXA=', 'status': 'SUCCESS', 'data': {'report_id': 'TWpBeU1pMHdOeTB4TkZRd056bzFOam93TndsemJXRnlkR1pzYVhBPQ==', 'start_day': '2022-06-14 00:00:00', 'end_date': '2022-07-06 00:00:00', 's3_path': {'customer_research': 'https://storage.yandexcloud.net/s3-sprint3/cohort_3/smartflip/TWpBeU1pMHdOeTB4TkZRd056bzFOam93TndsemJXRnlkR1pzYVhBPQ==/customer_research.csv', 'user_orders_log': 'https://storage.yandexcloud.net/s3-sprint3/cohort_3/smartflip/TWpBeU1pMHdOeTB4TkZRd056bzFOam93TndsemJXRnlkR1pzYVhBPQ==/user_orders_log.csv', 'user_activity_log': 'https://storage.yandexcloud.net/s3-sprint3/cohort_3/smartflip/TWpBeU1pMHdOeTB4TkZRd056bzFOam93TndsemJXRnlkR1pzYVhBPQ==/user_activity_log.csv', 'price_log': 'https://storage.yandexcloud.net/s3-sprint3/cohort_3/smartflip/TWpBeU1pMHdOeTB4TkZRd056bzFOam93TndsemJXRnlkR1pzYVhBPQ==/price_log.csv'}}}\n",
      "-----response number 4-----\n",
      "{'task_id': 'MjAyMi0wNy0xNFQwNzo1NjowNwlzbWFydGZsaXA=', 'status': 'SUCCESS', 'data': {'report_id': 'TWpBeU1pMHdOeTB4TkZRd056bzFOam93TndsemJXRnlkR1pzYVhBPQ==', 'start_day': '2022-06-14 00:00:00', 'end_date': '2022-07-06 00:00:00', 's3_path': {'customer_research': 'https://storage.yandexcloud.net/s3-sprint3/cohort_3/smartflip/TWpBeU1pMHdOeTB4TkZRd056bzFOam93TndsemJXRnlkR1pzYVhBPQ==/customer_research.csv', 'user_orders_log': 'https://storage.yandexcloud.net/s3-sprint3/cohort_3/smartflip/TWpBeU1pMHdOeTB4TkZRd056bzFOam93TndsemJXRnlkR1pzYVhBPQ==/user_orders_log.csv', 'user_activity_log': 'https://storage.yandexcloud.net/s3-sprint3/cohort_3/smartflip/TWpBeU1pMHdOeTB4TkZRd056bzFOam93TndsemJXRnlkR1pzYVhBPQ==/user_activity_log.csv', 'price_log': 'https://storage.yandexcloud.net/s3-sprint3/cohort_3/smartflip/TWpBeU1pMHdOeTB4TkZRd056bzFOam93TndsemJXRnlkR1pzYVhBPQ==/price_log.csv'}}}\n",
      "-----response number 5-----\n",
      "{'task_id': 'MjAyMi0wNy0xNFQwNzo1NjowNwlzbWFydGZsaXA=', 'status': 'SUCCESS', 'data': {'report_id': 'TWpBeU1pMHdOeTB4TkZRd056bzFOam93TndsemJXRnlkR1pzYVhBPQ==', 'start_day': '2022-06-14 00:00:00', 'end_date': '2022-07-06 00:00:00', 's3_path': {'customer_research': 'https://storage.yandexcloud.net/s3-sprint3/cohort_3/smartflip/TWpBeU1pMHdOeTB4TkZRd056bzFOam93TndsemJXRnlkR1pzYVhBPQ==/customer_research.csv', 'user_orders_log': 'https://storage.yandexcloud.net/s3-sprint3/cohort_3/smartflip/TWpBeU1pMHdOeTB4TkZRd056bzFOam93TndsemJXRnlkR1pzYVhBPQ==/user_orders_log.csv', 'user_activity_log': 'https://storage.yandexcloud.net/s3-sprint3/cohort_3/smartflip/TWpBeU1pMHdOeTB4TkZRd056bzFOam93TndsemJXRnlkR1pzYVhBPQ==/user_activity_log.csv', 'price_log': 'https://storage.yandexcloud.net/s3-sprint3/cohort_3/smartflip/TWpBeU1pMHdOeTB4TkZRd056bzFOam93TndsemJXRnlkR1pzYVhBPQ==/price_log.csv'}}}\n"
     ]
    }
   ],
   "source": [
    "# generate the report\n",
    "for i in range(6):\n",
    "    print(f'-----response number {i}-----')\n",
    "    get_report_response = requests.get(\n",
    "        f\"https://{url}/get_report?task_id={task_id}\", \n",
    "        headers={\n",
    "        \"X-API-KEY\": key,\n",
    "        \"X-Nickname\": nickname,\n",
    "        \"X-Cohort\": cohort\n",
    "        }\n",
    "    ).json()\n",
    "    time.sleep(10)\n",
    "    print(get_report_response)"
   ]
  },
  {
   "cell_type": "code",
   "execution_count": 9,
   "id": "20bf2944",
   "metadata": {},
   "outputs": [
    {
     "data": {
      "text/plain": [
       "'SUCCESS'"
      ]
     },
     "execution_count": 9,
     "metadata": {},
     "output_type": "execute_result"
    }
   ],
   "source": [
    "# check status\n",
    "get_report_response['status']"
   ]
  },
  {
   "cell_type": "code",
   "execution_count": 10,
   "id": "6b61bdab",
   "metadata": {},
   "outputs": [
    {
     "data": {
      "text/plain": [
       "'TWpBeU1pMHdOeTB4TkZRd056bzFOam93TndsemJXRnlkR1pzYVhBPQ=='"
      ]
     },
     "execution_count": 10,
     "metadata": {},
     "output_type": "execute_result"
    }
   ],
   "source": [
    "# check status\n",
    "report_id = get_report_response['data']['report_id']\n",
    "report_id"
   ]
  },
  {
   "cell_type": "code",
   "execution_count": 11,
   "id": "ed880199",
   "metadata": {},
   "outputs": [],
   "source": [
    "# valid report id from container\n",
    "report_id = 'TWpBeU1pMHdOeTB4TkZRd056bzBPRG93TlFsemJXRnlkR1pzYVhBPQ=='"
   ]
  },
  {
   "cell_type": "code",
   "execution_count": 12,
   "id": "c9f7f74c",
   "metadata": {},
   "outputs": [],
   "source": [
    "files_list = ['customer_research', 'user_orders_log', 'user_activity_log', 'price_log']\n",
    "cloud_url = 'storage.yandexcloud.net'\n",
    "\n",
    "# read the files\n",
    "for file_name in files_list:\n",
    "    globals()[f'df_{file_name}'] = pd.read_csv(f'https://{cloud_url}/s3-sprint3/cohort_{cohort}/{nickname}/project/{report_id}/{file_name}.csv')\n",
    "    "
   ]
  },
  {
   "cell_type": "code",
   "execution_count": null,
   "id": "25cdf172",
   "metadata": {},
   "outputs": [],
   "source": []
  },
  {
   "cell_type": "markdown",
   "id": "4cdbc880",
   "metadata": {},
   "source": [
    "# Read data"
   ]
  },
  {
   "cell_type": "code",
   "execution_count": 13,
   "id": "bedae538",
   "metadata": {},
   "outputs": [
    {
     "data": {
      "text/html": [
       "<div>\n",
       "<style scoped>\n",
       "    .dataframe tbody tr th:only-of-type {\n",
       "        vertical-align: middle;\n",
       "    }\n",
       "\n",
       "    .dataframe tbody tr th {\n",
       "        vertical-align: top;\n",
       "    }\n",
       "\n",
       "    .dataframe thead th {\n",
       "        text-align: right;\n",
       "    }\n",
       "</style>\n",
       "<table border=\"1\" class=\"dataframe\">\n",
       "  <thead>\n",
       "    <tr style=\"text-align: right;\">\n",
       "      <th></th>\n",
       "      <th>date_id</th>\n",
       "      <th>category_id</th>\n",
       "      <th>geo_id</th>\n",
       "      <th>sales_qty</th>\n",
       "      <th>sales_amt</th>\n",
       "    </tr>\n",
       "  </thead>\n",
       "  <tbody>\n",
       "    <tr>\n",
       "      <th>0</th>\n",
       "      <td>2022-06-14T00:00:00</td>\n",
       "      <td>1001</td>\n",
       "      <td>1</td>\n",
       "      <td>3</td>\n",
       "      <td>2883</td>\n",
       "    </tr>\n",
       "    <tr>\n",
       "      <th>1</th>\n",
       "      <td>2022-06-14T00:00:00</td>\n",
       "      <td>1001</td>\n",
       "      <td>2</td>\n",
       "      <td>9</td>\n",
       "      <td>8649</td>\n",
       "    </tr>\n",
       "    <tr>\n",
       "      <th>2</th>\n",
       "      <td>2022-06-14T00:00:00</td>\n",
       "      <td>1001</td>\n",
       "      <td>3</td>\n",
       "      <td>2</td>\n",
       "      <td>1922</td>\n",
       "    </tr>\n",
       "    <tr>\n",
       "      <th>3</th>\n",
       "      <td>2022-06-14T00:00:00</td>\n",
       "      <td>1002</td>\n",
       "      <td>1</td>\n",
       "      <td>1</td>\n",
       "      <td>961</td>\n",
       "    </tr>\n",
       "    <tr>\n",
       "      <th>4</th>\n",
       "      <td>2022-06-14T00:00:00</td>\n",
       "      <td>1002</td>\n",
       "      <td>2</td>\n",
       "      <td>5</td>\n",
       "      <td>4805</td>\n",
       "    </tr>\n",
       "  </tbody>\n",
       "</table>\n",
       "</div>"
      ],
      "text/plain": [
       "               date_id  category_id  geo_id  sales_qty  sales_amt\n",
       "0  2022-06-14T00:00:00         1001       1          3       2883\n",
       "1  2022-06-14T00:00:00         1001       2          9       8649\n",
       "2  2022-06-14T00:00:00         1001       3          2       1922\n",
       "3  2022-06-14T00:00:00         1002       1          1        961\n",
       "4  2022-06-14T00:00:00         1002       2          5       4805"
      ]
     },
     "execution_count": 13,
     "metadata": {},
     "output_type": "execute_result"
    }
   ],
   "source": [
    "df_customer_research.head()"
   ]
  },
  {
   "cell_type": "code",
   "execution_count": 14,
   "id": "2aea00ba",
   "metadata": {},
   "outputs": [
    {
     "data": {
      "text/html": [
       "<div>\n",
       "<style scoped>\n",
       "    .dataframe tbody tr th:only-of-type {\n",
       "        vertical-align: middle;\n",
       "    }\n",
       "\n",
       "    .dataframe tbody tr th {\n",
       "        vertical-align: top;\n",
       "    }\n",
       "\n",
       "    .dataframe thead th {\n",
       "        text-align: right;\n",
       "    }\n",
       "</style>\n",
       "<table border=\"1\" class=\"dataframe\">\n",
       "  <thead>\n",
       "    <tr style=\"text-align: right;\">\n",
       "      <th></th>\n",
       "      <th>id</th>\n",
       "      <th>date_time</th>\n",
       "      <th>city_id</th>\n",
       "      <th>city_name</th>\n",
       "      <th>customer_id</th>\n",
       "      <th>first_name</th>\n",
       "      <th>last_name</th>\n",
       "      <th>item_id</th>\n",
       "      <th>item_name</th>\n",
       "      <th>quantity</th>\n",
       "      <th>payment_amount</th>\n",
       "    </tr>\n",
       "  </thead>\n",
       "  <tbody>\n",
       "    <tr>\n",
       "      <th>0</th>\n",
       "      <td>1</td>\n",
       "      <td>2022-06-14T00:00:00</td>\n",
       "      <td>2</td>\n",
       "      <td>Ярославль</td>\n",
       "      <td>3909</td>\n",
       "      <td>Олег</td>\n",
       "      <td>Новиков</td>\n",
       "      <td>5</td>\n",
       "      <td>Яблоко молодильное</td>\n",
       "      <td>4</td>\n",
       "      <td>1600</td>\n",
       "    </tr>\n",
       "    <tr>\n",
       "      <th>1</th>\n",
       "      <td>2</td>\n",
       "      <td>2022-06-14T00:00:00</td>\n",
       "      <td>2</td>\n",
       "      <td>Ярославль</td>\n",
       "      <td>9814</td>\n",
       "      <td>Надежда</td>\n",
       "      <td>Козлова</td>\n",
       "      <td>4</td>\n",
       "      <td>Сахар песок</td>\n",
       "      <td>2</td>\n",
       "      <td>100</td>\n",
       "    </tr>\n",
       "    <tr>\n",
       "      <th>2</th>\n",
       "      <td>3</td>\n",
       "      <td>2022-06-14T00:00:00</td>\n",
       "      <td>2</td>\n",
       "      <td>Ярославль</td>\n",
       "      <td>5907</td>\n",
       "      <td>Александр</td>\n",
       "      <td>Новиков</td>\n",
       "      <td>11</td>\n",
       "      <td>Хлеб ржаной</td>\n",
       "      <td>1</td>\n",
       "      <td>20</td>\n",
       "    </tr>\n",
       "    <tr>\n",
       "      <th>3</th>\n",
       "      <td>4</td>\n",
       "      <td>2022-06-14T00:00:00</td>\n",
       "      <td>0</td>\n",
       "      <td>Москва</td>\n",
       "      <td>8710</td>\n",
       "      <td>Снежанна</td>\n",
       "      <td>Павлова</td>\n",
       "      <td>1</td>\n",
       "      <td>Молоко 3%</td>\n",
       "      <td>1</td>\n",
       "      <td>120</td>\n",
       "    </tr>\n",
       "    <tr>\n",
       "      <th>4</th>\n",
       "      <td>5</td>\n",
       "      <td>2022-06-14T00:00:00</td>\n",
       "      <td>2</td>\n",
       "      <td>Ярославль</td>\n",
       "      <td>4611</td>\n",
       "      <td>Екатерина</td>\n",
       "      <td>Егорова</td>\n",
       "      <td>4</td>\n",
       "      <td>Сахар песок</td>\n",
       "      <td>4</td>\n",
       "      <td>200</td>\n",
       "    </tr>\n",
       "  </tbody>\n",
       "</table>\n",
       "</div>"
      ],
      "text/plain": [
       "   id            date_time  city_id  city_name  customer_id first_name  \\\n",
       "0   1  2022-06-14T00:00:00        2  Ярославль         3909       Олег   \n",
       "1   2  2022-06-14T00:00:00        2  Ярославль         9814    Надежда   \n",
       "2   3  2022-06-14T00:00:00        2  Ярославль         5907  Александр   \n",
       "3   4  2022-06-14T00:00:00        0     Москва         8710   Снежанна   \n",
       "4   5  2022-06-14T00:00:00        2  Ярославль         4611  Екатерина   \n",
       "\n",
       "  last_name  item_id           item_name  quantity  payment_amount  \n",
       "0   Новиков        5  Яблоко молодильное         4            1600  \n",
       "1   Козлова        4         Сахар песок         2             100  \n",
       "2   Новиков       11         Хлеб ржаной         1              20  \n",
       "3   Павлова        1           Молоко 3%         1             120  \n",
       "4   Егорова        4         Сахар песок         4             200  "
      ]
     },
     "execution_count": 14,
     "metadata": {},
     "output_type": "execute_result"
    }
   ],
   "source": [
    "df_user_orders_log.head()"
   ]
  },
  {
   "cell_type": "code",
   "execution_count": 15,
   "id": "21bbe31a",
   "metadata": {},
   "outputs": [
    {
     "data": {
      "text/html": [
       "<div>\n",
       "<style scoped>\n",
       "    .dataframe tbody tr th:only-of-type {\n",
       "        vertical-align: middle;\n",
       "    }\n",
       "\n",
       "    .dataframe tbody tr th {\n",
       "        vertical-align: top;\n",
       "    }\n",
       "\n",
       "    .dataframe thead th {\n",
       "        text-align: right;\n",
       "    }\n",
       "</style>\n",
       "<table border=\"1\" class=\"dataframe\">\n",
       "  <thead>\n",
       "    <tr style=\"text-align: right;\">\n",
       "      <th></th>\n",
       "      <th>id</th>\n",
       "      <th>date_time</th>\n",
       "      <th>action_id</th>\n",
       "      <th>customer_id</th>\n",
       "      <th>quantity</th>\n",
       "    </tr>\n",
       "  </thead>\n",
       "  <tbody>\n",
       "    <tr>\n",
       "      <th>0</th>\n",
       "      <td>1</td>\n",
       "      <td>2022-06-14T00:00:00</td>\n",
       "      <td>3</td>\n",
       "      <td>530</td>\n",
       "      <td>16</td>\n",
       "    </tr>\n",
       "    <tr>\n",
       "      <th>1</th>\n",
       "      <td>2</td>\n",
       "      <td>2022-06-14T00:00:00</td>\n",
       "      <td>0</td>\n",
       "      <td>80</td>\n",
       "      <td>21</td>\n",
       "    </tr>\n",
       "    <tr>\n",
       "      <th>2</th>\n",
       "      <td>3</td>\n",
       "      <td>2022-06-14T00:00:00</td>\n",
       "      <td>2</td>\n",
       "      <td>360</td>\n",
       "      <td>16</td>\n",
       "    </tr>\n",
       "    <tr>\n",
       "      <th>3</th>\n",
       "      <td>4</td>\n",
       "      <td>2022-06-15T00:00:00</td>\n",
       "      <td>2</td>\n",
       "      <td>41</td>\n",
       "      <td>10</td>\n",
       "    </tr>\n",
       "    <tr>\n",
       "      <th>4</th>\n",
       "      <td>5</td>\n",
       "      <td>2022-06-15T00:00:00</td>\n",
       "      <td>0</td>\n",
       "      <td>731</td>\n",
       "      <td>24</td>\n",
       "    </tr>\n",
       "  </tbody>\n",
       "</table>\n",
       "</div>"
      ],
      "text/plain": [
       "   id            date_time  action_id  customer_id  quantity\n",
       "0   1  2022-06-14T00:00:00          3          530        16\n",
       "1   2  2022-06-14T00:00:00          0           80        21\n",
       "2   3  2022-06-14T00:00:00          2          360        16\n",
       "3   4  2022-06-15T00:00:00          2           41        10\n",
       "4   5  2022-06-15T00:00:00          0          731        24"
      ]
     },
     "execution_count": 15,
     "metadata": {},
     "output_type": "execute_result"
    }
   ],
   "source": [
    "df_user_activity_log.head()"
   ]
  },
  {
   "cell_type": "code",
   "execution_count": 16,
   "id": "ca404e08",
   "metadata": {},
   "outputs": [
    {
     "data": {
      "text/html": [
       "<div>\n",
       "<style scoped>\n",
       "    .dataframe tbody tr th:only-of-type {\n",
       "        vertical-align: middle;\n",
       "    }\n",
       "\n",
       "    .dataframe tbody tr th {\n",
       "        vertical-align: top;\n",
       "    }\n",
       "\n",
       "    .dataframe thead th {\n",
       "        text-align: right;\n",
       "    }\n",
       "</style>\n",
       "<table border=\"1\" class=\"dataframe\">\n",
       "  <thead>\n",
       "    <tr style=\"text-align: right;\">\n",
       "      <th></th>\n",
       "      <th>0</th>\n",
       "      <th>1</th>\n",
       "    </tr>\n",
       "  </thead>\n",
       "  <tbody>\n",
       "    <tr>\n",
       "      <th>0</th>\n",
       "      <td>Молоко 1%</td>\n",
       "      <td>100</td>\n",
       "    </tr>\n",
       "    <tr>\n",
       "      <th>1</th>\n",
       "      <td>Молоко 3%</td>\n",
       "      <td>120</td>\n",
       "    </tr>\n",
       "    <tr>\n",
       "      <th>2</th>\n",
       "      <td>Молоко 5%</td>\n",
       "      <td>150</td>\n",
       "    </tr>\n",
       "    <tr>\n",
       "      <th>3</th>\n",
       "      <td>Устройство для нагревания табака Трубка Мира</td>\n",
       "      <td>500</td>\n",
       "    </tr>\n",
       "    <tr>\n",
       "      <th>4</th>\n",
       "      <td>Сахар песок</td>\n",
       "      <td>50</td>\n",
       "    </tr>\n",
       "  </tbody>\n",
       "</table>\n",
       "</div>"
      ],
      "text/plain": [
       "                                              0    1\n",
       "0                                     Молоко 1%  100\n",
       "1                                     Молоко 3%  120\n",
       "2                                     Молоко 5%  150\n",
       "3  Устройство для нагревания табака Трубка Мира  500\n",
       "4                                   Сахар песок   50"
      ]
     },
     "execution_count": 16,
     "metadata": {},
     "output_type": "execute_result"
    }
   ],
   "source": [
    "df_price_log = pd.read_csv(f'https://{cloud_url}/s3-sprint3/cohort_{cohort}/{nickname}/project/{report_id}/{file_name}.csv', header = None)\n",
    "df_price_log.head()"
   ]
  },
  {
   "cell_type": "code",
   "execution_count": 17,
   "id": "7aa3296d",
   "metadata": {},
   "outputs": [
    {
     "name": "stderr",
     "output_type": "stream",
     "text": [
      "/var/folders/2p/50l_9vnx5v9859z1x_qycj1r0000gn/T/ipykernel_1234/3804383571.py:2: FutureWarning: Treating datetime data as categorical rather than numeric in `.describe` is deprecated and will be removed in a future version of pandas. Specify `datetime_is_numeric=True` to silence this warning and adopt the future behavior now.\n",
      "  temp.describe()\n"
     ]
    },
    {
     "data": {
      "text/plain": [
       "count                   23684\n",
       "unique                     23\n",
       "top       2022-07-01 00:00:00\n",
       "freq                     1194\n",
       "first     2022-06-14 00:00:00\n",
       "last      2022-07-06 00:00:00\n",
       "Name: date_time, dtype: object"
      ]
     },
     "execution_count": 17,
     "metadata": {},
     "output_type": "execute_result"
    }
   ],
   "source": [
    "temp = pd.to_datetime(df_user_orders_log['date_time'], format='%Y-%m-%dT%H:%M:%S')\n",
    "temp.describe()"
   ]
  },
  {
   "cell_type": "code",
   "execution_count": 18,
   "id": "6096c0b9",
   "metadata": {},
   "outputs": [
    {
     "name": "stderr",
     "output_type": "stream",
     "text": [
      "/var/folders/2p/50l_9vnx5v9859z1x_qycj1r0000gn/T/ipykernel_1234/3543211416.py:2: FutureWarning: Treating datetime data as categorical rather than numeric in `.describe` is deprecated and will be removed in a future version of pandas. Specify `datetime_is_numeric=True` to silence this warning and adopt the future behavior now.\n",
      "  temp.describe()\n"
     ]
    },
    {
     "data": {
      "text/plain": [
       "count                     260\n",
       "unique                     23\n",
       "top       2022-06-18 00:00:00\n",
       "freq                       19\n",
       "first     2022-06-14 00:00:00\n",
       "last      2022-07-06 00:00:00\n",
       "Name: date_time, dtype: object"
      ]
     },
     "execution_count": 18,
     "metadata": {},
     "output_type": "execute_result"
    }
   ],
   "source": [
    "temp = pd.to_datetime(df_user_activity_log['date_time'], format='%Y-%m-%dT%H:%M:%S')\n",
    "temp.describe()"
   ]
  },
  {
   "cell_type": "code",
   "execution_count": 19,
   "id": "b1596063",
   "metadata": {},
   "outputs": [
    {
     "name": "stdout",
     "output_type": "stream",
     "text": [
      "<class 'pandas.core.frame.DataFrame'>\n",
      "RangeIndex: 690 entries, 0 to 689\n",
      "Data columns (total 5 columns):\n",
      " #   Column       Non-Null Count  Dtype \n",
      "---  ------       --------------  ----- \n",
      " 0   date_id      690 non-null    object\n",
      " 1   category_id  690 non-null    int64 \n",
      " 2   geo_id       690 non-null    int64 \n",
      " 3   sales_qty    690 non-null    int64 \n",
      " 4   sales_amt    690 non-null    int64 \n",
      "dtypes: int64(4), object(1)\n",
      "memory usage: 27.1+ KB\n"
     ]
    }
   ],
   "source": [
    "df_customer_research.info()"
   ]
  },
  {
   "cell_type": "code",
   "execution_count": 20,
   "id": "eeae1a94",
   "metadata": {},
   "outputs": [
    {
     "name": "stdout",
     "output_type": "stream",
     "text": [
      "<class 'pandas.core.frame.DataFrame'>\n",
      "RangeIndex: 23684 entries, 0 to 23683\n",
      "Data columns (total 11 columns):\n",
      " #   Column          Non-Null Count  Dtype \n",
      "---  ------          --------------  ----- \n",
      " 0   id              23684 non-null  int64 \n",
      " 1   date_time       23684 non-null  object\n",
      " 2   city_id         23684 non-null  int64 \n",
      " 3   city_name       23684 non-null  object\n",
      " 4   customer_id     23684 non-null  int64 \n",
      " 5   first_name      23684 non-null  object\n",
      " 6   last_name       23684 non-null  object\n",
      " 7   item_id         23684 non-null  int64 \n",
      " 8   item_name       23684 non-null  object\n",
      " 9   quantity        23684 non-null  int64 \n",
      " 10  payment_amount  23684 non-null  int64 \n",
      "dtypes: int64(6), object(5)\n",
      "memory usage: 2.0+ MB\n"
     ]
    }
   ],
   "source": [
    "df_user_orders_log.info()"
   ]
  },
  {
   "cell_type": "code",
   "execution_count": 21,
   "id": "23f6cd03",
   "metadata": {},
   "outputs": [
    {
     "name": "stdout",
     "output_type": "stream",
     "text": [
      "<class 'pandas.core.frame.DataFrame'>\n",
      "RangeIndex: 260 entries, 0 to 259\n",
      "Data columns (total 5 columns):\n",
      " #   Column       Non-Null Count  Dtype \n",
      "---  ------       --------------  ----- \n",
      " 0   id           260 non-null    int64 \n",
      " 1   date_time    260 non-null    object\n",
      " 2   action_id    260 non-null    int64 \n",
      " 3   customer_id  260 non-null    int64 \n",
      " 4   quantity     260 non-null    int64 \n",
      "dtypes: int64(4), object(1)\n",
      "memory usage: 10.3+ KB\n"
     ]
    }
   ],
   "source": [
    "df_user_activity_log.info()"
   ]
  },
  {
   "cell_type": "code",
   "execution_count": 22,
   "id": "4b3e75cb",
   "metadata": {},
   "outputs": [
    {
     "name": "stdout",
     "output_type": "stream",
     "text": [
      "<class 'pandas.core.frame.DataFrame'>\n",
      "RangeIndex: 12 entries, 0 to 11\n",
      "Data columns (total 2 columns):\n",
      " #   Column  Non-Null Count  Dtype \n",
      "---  ------  --------------  ----- \n",
      " 0   0       12 non-null     object\n",
      " 1   1       12 non-null     int64 \n",
      "dtypes: int64(1), object(1)\n",
      "memory usage: 320.0+ bytes\n"
     ]
    }
   ],
   "source": [
    "df_price_log.info()"
   ]
  },
  {
   "cell_type": "markdown",
   "id": "090a9e3d",
   "metadata": {},
   "source": [
    "# 2. Import Data (increments)"
   ]
  },
  {
   "cell_type": "code",
   "execution_count": 24,
   "id": "16625be0",
   "metadata": {},
   "outputs": [],
   "source": [
    "max_date = max(df_user_orders_log['date_time'])\n",
    "max_date = pd.to_datetime(max_date, format='%Y-%m-%dT%H:%M:%S')"
   ]
  },
  {
   "cell_type": "code",
   "execution_count": 25,
   "id": "1f5be385",
   "metadata": {},
   "outputs": [],
   "source": [
    "#new_date = max_date + datetime.timedelta(days = 1)\n",
    "#new_date_str = str(new_date.date())+'T'+str(new_date.time())\n",
    "#new_date_str"
   ]
  },
  {
   "cell_type": "code",
   "execution_count": 26,
   "id": "8e59b2e7",
   "metadata": {},
   "outputs": [
    {
     "name": "stdout",
     "output_type": "stream",
     "text": [
      "-----response number 0-----\n",
      "{'report_id': 'TWpBeU1pMHdOeTB4TkZRd056bzBPRG93TlFsemJXRnlkR1pzYVhBPQ==', 'date': '2022-07-07 00:00:00', 'status': 'SUCCESS', 'data': {'increment_id': 'MjAyMi0wNy0wN1QwMDowMDowMAlUV3BCZVUxcE1IZE9lVEI0VGtaUmQwNTZiekJQUkc5M1RsRnNlbUpYUm5sa1IxcHpZVmhCUFE9PQ==', 's3_path': {'customer_research_inc': 'https://storage.yandexcloud.net/s3-sprint3/cohort_3/smartflip/project/MjAyMi0wNy0wN1QwMDowMDowMAlUV3BCZVUxcE1IZE9lVEI0VGtaUmQwNTZiekJQUkc5M1RsRnNlbUpYUm5sa1IxcHpZVmhCUFE9PQ==/customer_research_inc.csv', 'user_orders_log_inc': 'https://storage.yandexcloud.net/s3-sprint3/cohort_3/smartflip/project/MjAyMi0wNy0wN1QwMDowMDowMAlUV3BCZVUxcE1IZE9lVEI0VGtaUmQwNTZiekJQUkc5M1RsRnNlbUpYUm5sa1IxcHpZVmhCUFE9PQ==/user_orders_log_inc.csv', 'user_activity_log_inc': 'https://storage.yandexcloud.net/s3-sprint3/cohort_3/smartflip/project/MjAyMi0wNy0wN1QwMDowMDowMAlUV3BCZVUxcE1IZE9lVEI0VGtaUmQwNTZiekJQUkc5M1RsRnNlbUpYUm5sa1IxcHpZVmhCUFE9PQ==/user_activity_log_inc.csv', 'price_log_inc': 'https://storage.yandexcloud.net/s3-sprint3/cohort_3/smartflip/project/TWpBeU1pMHdOeTB4TkZRd056bzBPRG93TlFsemJXRnlkR1pzYVhBPQ==/price_log_inc.csv'}}}\n",
      "-----response number 1-----\n",
      "{'report_id': 'TWpBeU1pMHdOeTB4TkZRd056bzBPRG93TlFsemJXRnlkR1pzYVhBPQ==', 'date': '2022-07-08 00:00:00', 'status': 'SUCCESS', 'data': {'increment_id': 'MjAyMi0wNy0wOFQwMDowMDowMAlUV3BCZVUxcE1IZE9lVEI0VGtaUmQwNTZiekJQUkc5M1RsRnNlbUpYUm5sa1IxcHpZVmhCUFE9PQ==', 's3_path': {'customer_research_inc': 'https://storage.yandexcloud.net/s3-sprint3/cohort_3/smartflip/project/MjAyMi0wNy0wOFQwMDowMDowMAlUV3BCZVUxcE1IZE9lVEI0VGtaUmQwNTZiekJQUkc5M1RsRnNlbUpYUm5sa1IxcHpZVmhCUFE9PQ==/customer_research_inc.csv', 'user_orders_log_inc': 'https://storage.yandexcloud.net/s3-sprint3/cohort_3/smartflip/project/MjAyMi0wNy0wOFQwMDowMDowMAlUV3BCZVUxcE1IZE9lVEI0VGtaUmQwNTZiekJQUkc5M1RsRnNlbUpYUm5sa1IxcHpZVmhCUFE9PQ==/user_orders_log_inc.csv', 'user_activity_log_inc': 'https://storage.yandexcloud.net/s3-sprint3/cohort_3/smartflip/project/MjAyMi0wNy0wOFQwMDowMDowMAlUV3BCZVUxcE1IZE9lVEI0VGtaUmQwNTZiekJQUkc5M1RsRnNlbUpYUm5sa1IxcHpZVmhCUFE9PQ==/user_activity_log_inc.csv', 'price_log_inc': 'https://storage.yandexcloud.net/s3-sprint3/cohort_3/smartflip/project/TWpBeU1pMHdOeTB4TkZRd056bzBPRG93TlFsemJXRnlkR1pzYVhBPQ==/price_log_inc.csv'}}}\n",
      "-----response number 2-----\n",
      "{'report_id': 'TWpBeU1pMHdOeTB4TkZRd056bzBPRG93TlFsemJXRnlkR1pzYVhBPQ==', 'date': '2022-07-09 00:00:00', 'status': 'SUCCESS', 'data': {'increment_id': 'MjAyMi0wNy0wOVQwMDowMDowMAlUV3BCZVUxcE1IZE9lVEI0VGtaUmQwNTZiekJQUkc5M1RsRnNlbUpYUm5sa1IxcHpZVmhCUFE9PQ==', 's3_path': {'customer_research_inc': 'https://storage.yandexcloud.net/s3-sprint3/cohort_3/smartflip/project/MjAyMi0wNy0wOVQwMDowMDowMAlUV3BCZVUxcE1IZE9lVEI0VGtaUmQwNTZiekJQUkc5M1RsRnNlbUpYUm5sa1IxcHpZVmhCUFE9PQ==/customer_research_inc.csv', 'user_orders_log_inc': 'https://storage.yandexcloud.net/s3-sprint3/cohort_3/smartflip/project/MjAyMi0wNy0wOVQwMDowMDowMAlUV3BCZVUxcE1IZE9lVEI0VGtaUmQwNTZiekJQUkc5M1RsRnNlbUpYUm5sa1IxcHpZVmhCUFE9PQ==/user_orders_log_inc.csv', 'user_activity_log_inc': 'https://storage.yandexcloud.net/s3-sprint3/cohort_3/smartflip/project/MjAyMi0wNy0wOVQwMDowMDowMAlUV3BCZVUxcE1IZE9lVEI0VGtaUmQwNTZiekJQUkc5M1RsRnNlbUpYUm5sa1IxcHpZVmhCUFE9PQ==/user_activity_log_inc.csv', 'price_log_inc': 'https://storage.yandexcloud.net/s3-sprint3/cohort_3/smartflip/project/TWpBeU1pMHdOeTB4TkZRd056bzBPRG93TlFsemJXRnlkR1pzYVhBPQ==/price_log_inc.csv'}}}\n",
      "-----response number 3-----\n",
      "{'report_id': 'TWpBeU1pMHdOeTB4TkZRd056bzBPRG93TlFsemJXRnlkR1pzYVhBPQ==', 'date': '2022-07-10 00:00:00', 'status': 'SUCCESS', 'data': {'increment_id': 'MjAyMi0wNy0xMFQwMDowMDowMAlUV3BCZVUxcE1IZE9lVEI0VGtaUmQwNTZiekJQUkc5M1RsRnNlbUpYUm5sa1IxcHpZVmhCUFE9PQ==', 's3_path': {'customer_research_inc': 'https://storage.yandexcloud.net/s3-sprint3/cohort_3/smartflip/project/MjAyMi0wNy0xMFQwMDowMDowMAlUV3BCZVUxcE1IZE9lVEI0VGtaUmQwNTZiekJQUkc5M1RsRnNlbUpYUm5sa1IxcHpZVmhCUFE9PQ==/customer_research_inc.csv', 'user_orders_log_inc': 'https://storage.yandexcloud.net/s3-sprint3/cohort_3/smartflip/project/MjAyMi0wNy0xMFQwMDowMDowMAlUV3BCZVUxcE1IZE9lVEI0VGtaUmQwNTZiekJQUkc5M1RsRnNlbUpYUm5sa1IxcHpZVmhCUFE9PQ==/user_orders_log_inc.csv', 'user_activity_log_inc': 'https://storage.yandexcloud.net/s3-sprint3/cohort_3/smartflip/project/MjAyMi0wNy0xMFQwMDowMDowMAlUV3BCZVUxcE1IZE9lVEI0VGtaUmQwNTZiekJQUkc5M1RsRnNlbUpYUm5sa1IxcHpZVmhCUFE9PQ==/user_activity_log_inc.csv', 'price_log_inc': 'https://storage.yandexcloud.net/s3-sprint3/cohort_3/smartflip/project/TWpBeU1pMHdOeTB4TkZRd056bzBPRG93TlFsemJXRnlkR1pzYVhBPQ==/price_log_inc.csv'}}}\n",
      "-----response number 4-----\n",
      "{'report_id': 'TWpBeU1pMHdOeTB4TkZRd056bzBPRG93TlFsemJXRnlkR1pzYVhBPQ==', 'date': '2022-07-11 00:00:00', 'status': 'SUCCESS', 'data': {'increment_id': 'MjAyMi0wNy0xMVQwMDowMDowMAlUV3BCZVUxcE1IZE9lVEI0VGtaUmQwNTZiekJQUkc5M1RsRnNlbUpYUm5sa1IxcHpZVmhCUFE9PQ==', 's3_path': {'customer_research_inc': 'https://storage.yandexcloud.net/s3-sprint3/cohort_3/smartflip/project/MjAyMi0wNy0xMVQwMDowMDowMAlUV3BCZVUxcE1IZE9lVEI0VGtaUmQwNTZiekJQUkc5M1RsRnNlbUpYUm5sa1IxcHpZVmhCUFE9PQ==/customer_research_inc.csv', 'user_orders_log_inc': 'https://storage.yandexcloud.net/s3-sprint3/cohort_3/smartflip/project/MjAyMi0wNy0xMVQwMDowMDowMAlUV3BCZVUxcE1IZE9lVEI0VGtaUmQwNTZiekJQUkc5M1RsRnNlbUpYUm5sa1IxcHpZVmhCUFE9PQ==/user_orders_log_inc.csv', 'user_activity_log_inc': 'https://storage.yandexcloud.net/s3-sprint3/cohort_3/smartflip/project/MjAyMi0wNy0xMVQwMDowMDowMAlUV3BCZVUxcE1IZE9lVEI0VGtaUmQwNTZiekJQUkc5M1RsRnNlbUpYUm5sa1IxcHpZVmhCUFE9PQ==/user_activity_log_inc.csv', 'price_log_inc': 'https://storage.yandexcloud.net/s3-sprint3/cohort_3/smartflip/project/TWpBeU1pMHdOeTB4TkZRd056bzBPRG93TlFsemJXRnlkR1pzYVhBPQ==/price_log_inc.csv'}}}\n",
      "-----response number 5-----\n",
      "{'report_id': 'TWpBeU1pMHdOeTB4TkZRd056bzBPRG93TlFsemJXRnlkR1pzYVhBPQ==', 'date': '2022-07-12 00:00:00', 'status': 'SUCCESS', 'data': {'increment_id': 'MjAyMi0wNy0xMlQwMDowMDowMAlUV3BCZVUxcE1IZE9lVEI0VGtaUmQwNTZiekJQUkc5M1RsRnNlbUpYUm5sa1IxcHpZVmhCUFE9PQ==', 's3_path': {'customer_research_inc': 'https://storage.yandexcloud.net/s3-sprint3/cohort_3/smartflip/project/MjAyMi0wNy0xMlQwMDowMDowMAlUV3BCZVUxcE1IZE9lVEI0VGtaUmQwNTZiekJQUkc5M1RsRnNlbUpYUm5sa1IxcHpZVmhCUFE9PQ==/customer_research_inc.csv', 'user_orders_log_inc': 'https://storage.yandexcloud.net/s3-sprint3/cohort_3/smartflip/project/MjAyMi0wNy0xMlQwMDowMDowMAlUV3BCZVUxcE1IZE9lVEI0VGtaUmQwNTZiekJQUkc5M1RsRnNlbUpYUm5sa1IxcHpZVmhCUFE9PQ==/user_orders_log_inc.csv', 'user_activity_log_inc': 'https://storage.yandexcloud.net/s3-sprint3/cohort_3/smartflip/project/MjAyMi0wNy0xMlQwMDowMDowMAlUV3BCZVUxcE1IZE9lVEI0VGtaUmQwNTZiekJQUkc5M1RsRnNlbUpYUm5sa1IxcHpZVmhCUFE9PQ==/user_activity_log_inc.csv', 'price_log_inc': 'https://storage.yandexcloud.net/s3-sprint3/cohort_3/smartflip/project/TWpBeU1pMHdOeTB4TkZRd056bzBPRG93TlFsemJXRnlkR1pzYVhBPQ==/price_log_inc.csv'}}}\n",
      "-----response number 6-----\n",
      "{'report_id': 'TWpBeU1pMHdOeTB4TkZRd056bzBPRG93TlFsemJXRnlkR1pzYVhBPQ==', 'date': '2022-07-13 00:00:00', 'status': 'SUCCESS', 'data': {'increment_id': 'MjAyMi0wNy0xM1QwMDowMDowMAlUV3BCZVUxcE1IZE9lVEI0VGtaUmQwNTZiekJQUkc5M1RsRnNlbUpYUm5sa1IxcHpZVmhCUFE9PQ==', 's3_path': {'customer_research_inc': 'https://storage.yandexcloud.net/s3-sprint3/cohort_3/smartflip/project/MjAyMi0wNy0xM1QwMDowMDowMAlUV3BCZVUxcE1IZE9lVEI0VGtaUmQwNTZiekJQUkc5M1RsRnNlbUpYUm5sa1IxcHpZVmhCUFE9PQ==/customer_research_inc.csv', 'user_orders_log_inc': 'https://storage.yandexcloud.net/s3-sprint3/cohort_3/smartflip/project/MjAyMi0wNy0xM1QwMDowMDowMAlUV3BCZVUxcE1IZE9lVEI0VGtaUmQwNTZiekJQUkc5M1RsRnNlbUpYUm5sa1IxcHpZVmhCUFE9PQ==/user_orders_log_inc.csv', 'user_activity_log_inc': 'https://storage.yandexcloud.net/s3-sprint3/cohort_3/smartflip/project/MjAyMi0wNy0xM1QwMDowMDowMAlUV3BCZVUxcE1IZE9lVEI0VGtaUmQwNTZiekJQUkc5M1RsRnNlbUpYUm5sa1IxcHpZVmhCUFE9PQ==/user_activity_log_inc.csv', 'price_log_inc': 'https://storage.yandexcloud.net/s3-sprint3/cohort_3/smartflip/project/TWpBeU1pMHdOeTB4TkZRd056bzBPRG93TlFsemJXRnlkR1pzYVhBPQ==/price_log_inc.csv'}}}\n",
      "-----response number 7-----\n",
      "no increment found\n"
     ]
    }
   ],
   "source": [
    "# generate increment\n",
    "counter = 0\n",
    "inc_list_id = []\n",
    "\n",
    "for i in range(20):\n",
    "    print(f'-----response number {i}-----')\n",
    "    counter += 1\n",
    "    new_date = max_date + datetime.timedelta(days = counter)\n",
    "    new_date_str = str(new_date.date())+'T'+str(new_date.time())\n",
    "    get_report_response = requests.get(\n",
    "        f\"https://{url}/get_increment?report_id={report_id}&date={new_date_str}\", \n",
    "        headers={\n",
    "        \"X-API-KEY\": key,\n",
    "        \"X-Nickname\": nickname,\n",
    "        \"X-Cohort\": cohort,\n",
    "        \"X-Project\": \"True\"\n",
    "        }\n",
    "    ).json()\n",
    "    status = get_report_response['status']\n",
    "    if status == 'SUCCESS':\n",
    "        print(get_report_response)\n",
    "        inc_list_id.append(get_report_response['data']['increment_id'])\n",
    "        time.sleep(4)\n",
    "    else:\n",
    "        time.sleep(10)\n",
    "        print('no increment found')\n",
    "        break"
   ]
  },
  {
   "cell_type": "code",
   "execution_count": null,
   "id": "55cdbc72",
   "metadata": {},
   "outputs": [],
   "source": [
    "inc_list_id"
   ]
  },
  {
   "cell_type": "code",
   "execution_count": null,
   "id": "a26424f6",
   "metadata": {},
   "outputs": [],
   "source": [
    "inc_files_list = ['customer_research_inc', 'user_orders_log_inc', 'user_activity_log_inc']\n",
    "cloud_url = 'storage.yandexcloud.net'\n",
    "increment_id = inc_list_id[0]\n",
    "\n",
    "# read the files\n",
    "for file_name in inc_files_list:\n",
    "    #print(f'https://{cloud_url}/s3-sprint3/cohort_{cohort}/{nickname}/project/{increment_id}/{file_name}.csv')\n",
    "    globals()[f'df_{file_name}'] = pd.read_csv(f'https://{cloud_url}/s3-sprint3/cohort_{cohort}/{nickname}/project/{increment_id}/{file_name}.csv')\n",
    "    "
   ]
  },
  {
   "cell_type": "code",
   "execution_count": null,
   "id": "587aac51",
   "metadata": {},
   "outputs": [],
   "source": [
    "df_customer_research_inc.info()"
   ]
  },
  {
   "cell_type": "code",
   "execution_count": null,
   "id": "219e2c54",
   "metadata": {},
   "outputs": [],
   "source": [
    "df_user_orders_log_inc.info()"
   ]
  },
  {
   "cell_type": "code",
   "execution_count": null,
   "id": "1e8c6d42",
   "metadata": {},
   "outputs": [],
   "source": [
    "df_user_activity_log_inc.info()"
   ]
  },
  {
   "cell_type": "code",
   "execution_count": null,
   "id": "e9acdb68",
   "metadata": {},
   "outputs": [],
   "source": [
    "df_user_orders_log_inc"
   ]
  },
  {
   "cell_type": "markdown",
   "id": "b0a3503b",
   "metadata": {},
   "source": [
    "# 3. Data Migration"
   ]
  },
  {
   "cell_type": "code",
   "execution_count": null,
   "id": "ba1a71d2",
   "metadata": {},
   "outputs": [],
   "source": [
    "# IMPORT THE SQALCHEMY LIBRARY's CREATE_ENGINE METHOD\n",
    "# DEFINE THE DATABASE CREDENTIALS\n",
    "user = 'jovyan'\n",
    "password = 'jovyan'\n",
    "host = '127.0.0.1'\n",
    "port = 15432\n",
    "database = 'de'\n",
    "\n",
    "# PYTHON FUNCTION TO CONNECT TO THE POSTGRESQL DATABASE AND\n",
    "# RETURN THE SQLACHEMY ENGINE OBJECT\n",
    "def get_connection():\n",
    "    return create_engine(\n",
    "        url=\"postgresql://{0}:{1}@{2}:{3}/{4}\".format(\n",
    "            user, password, host, port, database\n",
    "        )\n",
    "    )\n",
    "\n",
    "\n",
    "if __name__ == '__main__':\n",
    "\n",
    "    try:\n",
    "        # GET THE CONNECTION OBJECT (ENGINE) FOR THE DATABASE\n",
    "        engine = get_connection()\n",
    "        print(\n",
    "            f\"Connection to the {host} for user {user} created successfully.\")\n",
    "    except Exception as ex:\n",
    "        print(\"Connection could not be made due to the following error: \\n\", ex)\n"
   ]
  },
  {
   "cell_type": "code",
   "execution_count": null,
   "id": "dd09909f",
   "metadata": {},
   "outputs": [],
   "source": [
    "engine"
   ]
  },
  {
   "cell_type": "markdown",
   "id": "711ce7e1",
   "metadata": {},
   "source": [
    "## customer research"
   ]
  },
  {
   "cell_type": "code",
   "execution_count": null,
   "id": "938520f4",
   "metadata": {},
   "outputs": [],
   "source": [
    "df_customer_research"
   ]
  },
  {
   "cell_type": "code",
   "execution_count": null,
   "id": "9e63b887",
   "metadata": {},
   "outputs": [],
   "source": [
    "df_customer_research = df_customer_research.drop_duplicates()"
   ]
  },
  {
   "cell_type": "code",
   "execution_count": null,
   "id": "54026415",
   "metadata": {},
   "outputs": [],
   "source": [
    "df_customer_research"
   ]
  },
  {
   "cell_type": "code",
   "execution_count": null,
   "id": "c3e9608c",
   "metadata": {},
   "outputs": [],
   "source": [
    "# upload\n",
    "df_customer_research.to_sql(\n",
    "    'customer_research', \n",
    "    con = engine, \n",
    "    schema='staging', \n",
    "    if_exists='replace', \n",
    "    index=True, \n",
    "    index_label='id'\n",
    ")"
   ]
  },
  {
   "cell_type": "markdown",
   "id": "4a352e77",
   "metadata": {},
   "source": [
    "## user_orders_log"
   ]
  },
  {
   "cell_type": "code",
   "execution_count": null,
   "id": "e32e52a4",
   "metadata": {},
   "outputs": [],
   "source": [
    "df_user_orders_log = df_user_orders_log.drop_duplicates()\n",
    "df_user_orders_log"
   ]
  },
  {
   "cell_type": "code",
   "execution_count": null,
   "id": "e31d41da",
   "metadata": {},
   "outputs": [],
   "source": [
    "df_user_orders_log = df_user_orders_log.drop(['id'], axis = 1)\n",
    "df_user_orders_log.head()"
   ]
  },
  {
   "cell_type": "code",
   "execution_count": null,
   "id": "1b4dbb0a",
   "metadata": {},
   "outputs": [],
   "source": [
    "# upload\n",
    "df_user_orders_log.to_sql(\n",
    "    'user_orders_log', \n",
    "    con = engine, \n",
    "    schema='staging', \n",
    "    if_exists='replace', \n",
    "    index=True,\n",
    "    index_label = 'id'\n",
    ")"
   ]
  },
  {
   "cell_type": "markdown",
   "id": "f977cdeb",
   "metadata": {},
   "source": [
    "## user_activity_log"
   ]
  },
  {
   "cell_type": "code",
   "execution_count": null,
   "id": "7440b51c",
   "metadata": {},
   "outputs": [],
   "source": [
    "df_user_activity_log = df_user_activity_log.drop_duplicates()\n",
    "df_user_activity_log"
   ]
  },
  {
   "cell_type": "code",
   "execution_count": null,
   "id": "173a1c83",
   "metadata": {},
   "outputs": [],
   "source": [
    "# upload\n",
    "df_user_activity_log.to_sql(\n",
    "    'user_activity_log', \n",
    "    con = engine, \n",
    "    schema='staging', \n",
    "    if_exists='replace'\n",
    ")"
   ]
  },
  {
   "cell_type": "markdown",
   "id": "bc2e4d72",
   "metadata": {},
   "source": [
    "## price log"
   ]
  },
  {
   "cell_type": "code",
   "execution_count": null,
   "id": "032ea94e",
   "metadata": {},
   "outputs": [],
   "source": [
    "df_price_log"
   ]
  },
  {
   "cell_type": "code",
   "execution_count": null,
   "id": "5b2447de",
   "metadata": {},
   "outputs": [],
   "source": [
    "df_price_log.columns = [\"item_name\", \"price\"]"
   ]
  },
  {
   "cell_type": "code",
   "execution_count": null,
   "id": "9ea5e012",
   "metadata": {},
   "outputs": [],
   "source": [
    "df_price_log"
   ]
  },
  {
   "cell_type": "code",
   "execution_count": null,
   "id": "4cf2bbdb",
   "metadata": {},
   "outputs": [],
   "source": [
    "df_price_log = df_price_log.drop_duplicates()"
   ]
  },
  {
   "cell_type": "code",
   "execution_count": null,
   "id": "300a1b4c",
   "metadata": {},
   "outputs": [],
   "source": [
    "# upload\n",
    "df_price_log.to_sql(\n",
    "    'price_log', \n",
    "    con = engine, \n",
    "    schema='staging', \n",
    "    if_exists='replace', \n",
    "    index=True,\n",
    "    index_label = 'id'\n",
    ")"
   ]
  },
  {
   "cell_type": "code",
   "execution_count": null,
   "id": "99483e7e",
   "metadata": {},
   "outputs": [],
   "source": []
  }
 ],
 "metadata": {
  "kernelspec": {
   "display_name": "Python 3 (ipykernel)",
   "language": "python",
   "name": "python3"
  },
  "language_info": {
   "codemirror_mode": {
    "name": "ipython",
    "version": 3
   },
   "file_extension": ".py",
   "mimetype": "text/x-python",
   "name": "python",
   "nbconvert_exporter": "python",
   "pygments_lexer": "ipython3",
   "version": "3.9.12"
  }
 },
 "nbformat": 4,
 "nbformat_minor": 5
}
